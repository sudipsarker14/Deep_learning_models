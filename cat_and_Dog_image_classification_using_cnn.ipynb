{
  "cells": [
    {
      "cell_type": "markdown",
      "metadata": {
        "id": "view-in-github",
        "colab_type": "text"
      },
      "source": [
        "<a href=\"https://colab.research.google.com/github/sudipsarker14/Deep_learning_models/blob/main/cat_and_Dog_image_classification_using_cnn.ipynb\" target=\"_parent\"><img src=\"https://colab.research.google.com/assets/colab-badge.svg\" alt=\"Open In Colab\"/></a>"
      ]
    },
    {
      "cell_type": "code",
      "execution_count": null,
      "metadata": {
        "id": "89D2EJmH8mAo"
      },
      "outputs": [],
      "source": [
        "import keras\n",
        "import tensorflow as tf\n",
        "import numpy as np\n",
        "import pandas as pd\n",
        "from keras import Sequential\n",
        "from keras.layers import Dense,Conv2D,MaxPooling2D,Flatten,BatchNormalization,Dropout"
      ]
    },
    {
      "cell_type": "code",
      "execution_count": null,
      "metadata": {
        "colab": {
          "base_uri": "https://localhost:8080/"
        },
        "id": "VfYtYFsU9h3W",
        "outputId": "2eba20b4-f588-4216-e092-757f64306f81"
      },
      "outputs": [
        {
          "name": "stdout",
          "output_type": "stream",
          "text": [
            "Drive already mounted at /content/drive; to attempt to forcibly remount, call drive.mount(\"/content/drive\", force_remount=True).\n"
          ]
        }
      ],
      "source": [
        "from google.colab import drive\n",
        "drive.mount('/content/drive')"
      ]
    },
    {
      "cell_type": "code",
      "execution_count": null,
      "metadata": {
        "colab": {
          "base_uri": "https://localhost:8080/"
        },
        "id": "9BHgH5w2-oOP",
        "outputId": "e5fde4ce-8212-409e-d3cb-625f4754a9a1"
      },
      "outputs": [
        {
          "name": "stdout",
          "output_type": "stream",
          "text": [
            "Found 272 images belonging to 2 classes.\n",
            "Found 140 images belonging to 2 classes.\n"
          ]
        }
      ],
      "source": [
        "from tensorflow.keras.preprocessing.image import ImageDataGenerator\n",
        "train_dir = '/content/drive/MyDrive/Dataset/archive/train'\n",
        "test_dir = '/content/drive/MyDrive/Dataset/archive/test'\n",
        "\n",
        "train_datagen = ImageDataGenerator(rescale=1./255)\n",
        "test_datagen = ImageDataGenerator(rescale=1./255)\n",
        "batch_size = 1\n",
        "\n",
        "train_genarator = train_datagen.flow_from_directory(\n",
        "    train_dir,\n",
        "    target_size=(720,1080),\n",
        "    batch_size=batch_size,\n",
        "    class_mode='binary'\n",
        ")\n",
        "test_genarator = test_datagen.flow_from_directory(\n",
        "    test_dir,\n",
        "    target_size=(720,1080),\n",
        "    batch_size=batch_size,\n",
        "    class_mode='binary'\n",
        ")"
      ]
    },
    {
      "cell_type": "code",
      "execution_count": null,
      "metadata": {
        "colab": {
          "background_save": true,
          "base_uri": "https://localhost:8080/"
        },
        "id": "UMcC500ZAPAv",
        "outputId": "ad4fad22-2372-41f7-a0f6-5199db276fed"
      },
      "outputs": [
        {
          "name": "stdout",
          "output_type": "stream",
          "text": [
            "Epoch 1/10\n",
            "272/272 [==============================] - 1419s 5s/step - loss: 4.5111 - accuracy: 0.5294\n",
            "Epoch 2/10\n",
            "272/272 [==============================] - 1427s 5s/step - loss: 0.8033 - accuracy: 0.5993\n",
            "Epoch 3/10\n",
            "272/272 [==============================] - 1404s 5s/step - loss: 1.0071 - accuracy: 0.6066\n",
            "Epoch 4/10\n",
            "272/272 [==============================] - 1393s 5s/step - loss: 1.2234 - accuracy: 0.7426\n",
            "Epoch 5/10\n",
            "272/272 [==============================] - 1388s 5s/step - loss: 0.6845 - accuracy: 0.8051\n",
            "Epoch 6/10\n",
            "272/272 [==============================] - 1372s 5s/step - loss: 0.7819 - accuracy: 0.8419\n",
            "Epoch 7/10\n",
            "272/272 [==============================] - 1354s 5s/step - loss: 0.6630 - accuracy: 0.6471\n",
            "Epoch 8/10\n",
            "179/272 [==================>...........] - ETA: 7:43 - loss: 0.7912 - accuracy: 0.7542"
          ]
        }
      ],
      "source": [
        "model = Sequential([\n",
        "    Conv2D(32, (3, 3), activation='relu', input_shape=(720, 1080, 3)),\n",
        "    MaxPooling2D((2, 2)),\n",
        "    Conv2D(64, (3, 3), activation='relu'),\n",
        "    MaxPooling2D((2, 2)),\n",
        "    Conv2D(128, (3, 3), activation='relu'),\n",
        "    MaxPooling2D((2, 2)),\n",
        "    Flatten(),\n",
        "    Dense(128, activation='relu'),\n",
        "    Dense(1, activation='sigmoid')\n",
        "])\n",
        "model.compile(optimizer='Adam', loss='binary_crossentropy', metrics=['accuracy'])\n",
        "history = model.fit(train_genarator, epochs=10)\n",
        "loss, accuracy = model.evaluate(test_genarator)\n",
        "#print(\"Test Loss:\", loss)\n",
        "print(\"Test Accuracy:\", accuracy)"
      ]
    }
  ],
  "metadata": {
    "colab": {
      "provenance": [],
      "mount_file_id": "1JhCJSMw3zjCQKraCc8mQOeD9--uN-ZcD",
      "authorship_tag": "ABX9TyPsdNKlId7eQ5+I2HZRa+c+",
      "include_colab_link": true
    },
    "kernelspec": {
      "display_name": "Python 3",
      "name": "python3"
    },
    "language_info": {
      "name": "python"
    }
  },
  "nbformat": 4,
  "nbformat_minor": 0
}